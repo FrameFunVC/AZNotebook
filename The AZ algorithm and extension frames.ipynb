{
 "cells": [
  {
   "cell_type": "code",
   "execution_count": null,
   "metadata": {},
   "outputs": [],
   "source": [
    "using Pkg\n",
    "pkg\"registry add https://github.com/JuliaRegistries/General\"\n",
    "pkg\"registry add https://github.com/vincentcp/FrameFunRegistry\"\n",
    "Pkg.activate(pwd());Pkg.instantiate()"
   ]
  },
  {
   "cell_type": "code",
   "execution_count": null,
   "metadata": {
    "scrolled": true
   },
   "outputs": [],
   "source": [
    "using LinearAlgebra, DomainSets, BasisFunctions, FrameFun, Plots, PGFPlotsX, Statistics, \n",
    "    LaTeXStrings, DocumentPGFPlots\n",
    "opts = (samplingstyle=OversamplingStyle(), samplingfactor=2, normalizedsampling=true, \n",
    "    solverstyle=AZStyle(), threshold=1e-10,REG=pQR_solver)\n",
    "@pgf sizeopts = {height=140,width=300}\n",
    "@pgf axisopts = {ymode=\"log\",ymax=1e4,ymin=1e-20,sizeopts...}\n",
    "@pgf plotopts = {color=\"black\",mark_options=\"fill=black\",mark_size=\"1pt\"}"
   ]
  },
  {
   "cell_type": "code",
   "execution_count": null,
   "metadata": {},
   "outputs": [],
   "source": [
    "D = UnionDomain((-0.75)..(-0.25),0.0..0.5)\n",
    "P = ExtensionFramePlatform(platform(Fourier(1)→(-1.0..1.0)),D)\n",
    "N = 50\n",
    "F = Fun(exp,P,N)\n",
    "x = PeriodicEquispacedGrid(4N,-1,1)\n",
    "B = Fourier(N)→(-1.0..1.0)\n",
    "y = real.(F(x))\n",
    "yy = real.(Expansion(B,coefficients(F))(x));\n",
    "m1 = x .∈ Ref(D.domains[1]);\n",
    "m2 = x .∈ Ref(D.domains[2]);\n",
    "G = @pgf Axis({cycle_list_name=\"mark list\",\n",
    "        xlabel=L\"N\",\n",
    "        legend_pos=\"north east\",height=140,width=300},\n",
    "    Plot({no_marks,style=\"black,dashed,thin\"},Table(x,y)),\n",
    "    Plot({no_marks,style=\"black,very thick\"},Table(x[m1],yy[m1])),\n",
    "    Plot({no_marks,style=\"black,very thick\"},Table(x[m2],yy[m2])),\n",
    ")"
   ]
  },
  {
   "cell_type": "code",
   "execution_count": null,
   "metadata": {},
   "outputs": [],
   "source": [
    "DocumentPGFPlots.savefigs(joinpath(pwd(),\"FEapprox\"), G)"
   ]
  },
  {
   "cell_type": "code",
   "execution_count": null,
   "metadata": {},
   "outputs": [],
   "source": [
    "G = @pgf Axis({cycle_list_name=\"mark list\",\n",
    "        xlabel=L\"N\",\n",
    "        legend_pos=\"north east\",height=140,width=300},\n",
    "    Plot({only_marks,style=\"black\"},Table(1:N,svdvals(AZ_A(P,N;normalizedsampling=true))))\n",
    "    )"
   ]
  },
  {
   "cell_type": "code",
   "execution_count": null,
   "metadata": {},
   "outputs": [],
   "source": [
    "DocumentPGFPlots.savefigs(joinpath(pwd(),\"FEsvdvals\"), G)"
   ]
  },
  {
   "cell_type": "markdown",
   "metadata": {},
   "source": [
    "# Fourier extension"
   ]
  },
  {
   "cell_type": "code",
   "execution_count": null,
   "metadata": {
    "scrolled": true
   },
   "outputs": [],
   "source": [
    "P = ExtensionFramePlatform(platform(Fourier(10)→(-1.0..1.0)) ,-.5..0.5)\n",
    "f = x->x\n",
    "N = 201"
   ]
  },
  {
   "cell_type": "code",
   "execution_count": null,
   "metadata": {},
   "outputs": [],
   "source": [
    "P"
   ]
  },
  {
   "cell_type": "code",
   "execution_count": null,
   "metadata": {},
   "outputs": [],
   "source": [
    "fA = @pgf Axis(axisopts,PlotInc(plotopts,Table([collect(1:N),\n",
    "                svdvals(AZ_A(P, N;opts...,normalizedsampling=false))])))"
   ]
  },
  {
   "cell_type": "code",
   "execution_count": null,
   "metadata": {},
   "outputs": [],
   "source": [
    "fZ = @pgf Axis(axisopts,PlotInc(plotopts,Table([collect(1:N),\n",
    "                svdvals(AZ_Zt(P, N;opts..., normalizedsampling=false))])))"
   ]
  },
  {
   "cell_type": "code",
   "execution_count": null,
   "metadata": {
    "scrolled": true
   },
   "outputs": [],
   "source": [
    "fM = @pgf Axis(axisopts,PlotInc(plotopts,Table([collect(1:N),svdvals(plungematrix(P,N;opts...,normalizedsampling=false))])))"
   ]
  },
  {
   "cell_type": "code",
   "execution_count": null,
   "metadata": {},
   "outputs": [],
   "source": [
    "using  Statistics\n",
    "ns1 = [1<<k for k in 4:16]\n",
    "ns2 = [1<<k for k in 4:11]\n",
    "t = [getindex(@timed(approximate(exp,P,n;opts...)),2) for n in ns1,  i in 1:3]\n",
    "t1 = [getindex(@timed(approximate(exp,P,n;opts...,solverstyle=DirectStyle(),\n",
    "                    directsolver=:qr)),2) for n in ns2,  i in 1:3]\n",
    "# p = [plungerank(P,n;opts...) for n in ns];"
   ]
  },
  {
   "cell_type": "code",
   "execution_count": null,
   "metadata": {},
   "outputs": [],
   "source": [
    "fT = @pgf Axis({sizeopts..., xmode=\"log\",ymode=\"log\",legend_pos=\"south east\"},\n",
    "    PlotInc({plotopts...,mark_size=2,forget_plot},Table([ns1,median(t,dims=2)[:]])),\n",
    "    PlotInc({plotopts...,mark_size=2,forget_plot},Table([ns2,median(t1,dims=2)[:]])),\n",
    "    PlotInc({plotopts..., style=\"black,dashed\",mark=\"none\"},\n",
    "        Table([ns1,1e-5ns1.*log10.(ns1)])),\n",
    "    LegendEntry(L\"\\mathcal O(N \\log^2(N))\"))"
   ]
  },
  {
   "cell_type": "code",
   "execution_count": null,
   "metadata": {},
   "outputs": [],
   "source": [
    "# fP = @pgf Axis({sizeopts...,xmode=\"log\"},PlotInc(plotopts,Table([ns,p])))"
   ]
  },
  {
   "cell_type": "code",
   "execution_count": null,
   "metadata": {},
   "outputs": [],
   "source": [
    "pgfsave(\"fA.tex\" , fA,include_preamble=false)\n",
    "pgfsave(\"fZ.tex\" , fZ,include_preamble=false)\n",
    "pgfsave(\"fM.tex\" , fM,include_preamble=false)\n",
    "pgfsave(\"fT.tex\", fT,include_preamble=false)\n",
    "# pgfsave(\"fP.tex\", fP,include_preamble=false)"
   ]
  },
  {
   "cell_type": "markdown",
   "metadata": {},
   "source": [
    "# Legendre extension"
   ]
  },
  {
   "cell_type": "code",
   "execution_count": null,
   "metadata": {},
   "outputs": [],
   "source": [
    "using FrameFun, BasisFunctions\n",
    "import FrameFun.Platforms: dictionary\n",
    "import FrameFun.FrameFunInterface: discretemeasure\n",
    "struct WLegendrePlatform <: BasisPlatform end\n",
    "FrameFun.Platforms.unsafe_dictionary(plat::WLegendrePlatform, param::Int) = Legendre(param)\n",
    "FrameFun.Platforms.correctparamformat(platform::WLegendrePlatform, param::Int) = true\n",
    "discretemeasure(ss::SamplingStyle, plat::WLegendrePlatform, param, ap; options...) =\n",
    "    gauss_rule(dictionary(plat,length(sampling_grid(ss,ap;options...))))"
   ]
  },
  {
   "cell_type": "code",
   "execution_count": null,
   "metadata": {},
   "outputs": [],
   "source": [
    "P = FrameFun.ExtensionFramePlatform(WLegendrePlatform(), Interval(-.5,.5))\n",
    "N = 201"
   ]
  },
  {
   "cell_type": "code",
   "execution_count": null,
   "metadata": {},
   "outputs": [],
   "source": [
    "A = AZ_A(P,N; opts...,normalizedsampling=false)"
   ]
  },
  {
   "cell_type": "code",
   "execution_count": null,
   "metadata": {},
   "outputs": [],
   "source": [
    "lA = @pgf Axis(axisopts,PlotInc(plotopts,Table([collect(1:N),svdvals(AZ_A(P, N;opts...))])))"
   ]
  },
  {
   "cell_type": "code",
   "execution_count": null,
   "metadata": {},
   "outputs": [],
   "source": [
    "azdual_dict(P,10)"
   ]
  },
  {
   "cell_type": "code",
   "execution_count": null,
   "metadata": {},
   "outputs": [],
   "source": [
    "Z = AZ_Z(P,N; opts...,normalizedsampling=false)"
   ]
  },
  {
   "cell_type": "code",
   "execution_count": null,
   "metadata": {},
   "outputs": [],
   "source": [
    "Zt = AZ_Zt(P,N; opts...,normalizedsampling=false)"
   ]
  },
  {
   "cell_type": "code",
   "execution_count": null,
   "metadata": {},
   "outputs": [],
   "source": [
    "lZ = @pgf Axis(axisopts,PlotInc(plotopts,Table([collect(1:N),svdvals(Zt)])))"
   ]
  },
  {
   "cell_type": "code",
   "execution_count": null,
   "metadata": {},
   "outputs": [],
   "source": [
    "lM = @pgf Axis(axisopts,PlotInc(plotopts,Table([collect(1:N),svdvals(A-A*Zt*A)])))"
   ]
  },
  {
   "cell_type": "code",
   "execution_count": null,
   "metadata": {},
   "outputs": [],
   "source": [
    "pgfsave(\"lA.tex\" , lA,include_preamble=false)\n",
    "pgfsave(\"lZ.tex\" , lZ,include_preamble=false)\n",
    "pgfsave(\"lM.tex\" , lM,include_preamble=false)"
   ]
  },
  {
   "cell_type": "code",
   "execution_count": null,
   "metadata": {},
   "outputs": [],
   "source": []
  },
  {
   "cell_type": "code",
   "execution_count": null,
   "metadata": {},
   "outputs": [],
   "source": [
    "P = FrameFun.OPSExtensionFramePlatform(Legendre(10),Interval(-.5..0.5))\n",
    "N = 201"
   ]
  },
  {
   "cell_type": "code",
   "execution_count": null,
   "metadata": {},
   "outputs": [],
   "source": [
    "A = AZ_A(P,N; opts...)"
   ]
  },
  {
   "cell_type": "code",
   "execution_count": null,
   "metadata": {},
   "outputs": [],
   "source": [
    "wlA = @pgf Axis(axisopts,PlotInc(plotopts,Table([collect(1:N),svdvals(A)])))"
   ]
  },
  {
   "cell_type": "code",
   "execution_count": null,
   "metadata": {},
   "outputs": [],
   "source": [
    "Zt = AZ_Zt(P,N; opts...)"
   ]
  },
  {
   "cell_type": "code",
   "execution_count": null,
   "metadata": {},
   "outputs": [],
   "source": [
    "wlZ = @pgf Axis({axisopts...,ymax=1e4},PlotInc(plotopts,Table([collect(1:N),svdvals(Zt)])))"
   ]
  },
  {
   "cell_type": "code",
   "execution_count": null,
   "metadata": {},
   "outputs": [],
   "source": [
    "wlM = @pgf Axis(axisopts,PlotInc(plotopts,Table([collect(1:N),svdvals(A-A*Zt*A)])))"
   ]
  },
  {
   "cell_type": "code",
   "execution_count": null,
   "metadata": {},
   "outputs": [],
   "source": []
  },
  {
   "cell_type": "code",
   "execution_count": null,
   "metadata": {},
   "outputs": [],
   "source": [
    "pgfsave(\"wlA.tex\" , wlA,include_preamble=false)\n",
    "pgfsave(\"wlZ.tex\" , wlZ,include_preamble=false)\n",
    "pgfsave(\"wlM.tex\" , wlM,include_preamble=false)"
   ]
  },
  {
   "cell_type": "code",
   "execution_count": null,
   "metadata": {},
   "outputs": [],
   "source": []
  },
  {
   "cell_type": "code",
   "execution_count": null,
   "metadata": {},
   "outputs": [],
   "source": [
    "ns = [1<<k for k in 4:8]\n",
    "@timed(approximate(exp,P,100;opts...))\n",
    "@timed(QR_solver(AZ_A(P,100;opts...))*exp)\n",
    "taz = [getindex(@timed(approximate(exp,P,n;opts...)),2) for n in ns,  i in 1:1]\n",
    "tqr = [getindex(@timed(QR_solver(AZ_A(P,n;opts...))*exp),2) for n in ns,  i in 1:1]"
   ]
  },
  {
   "cell_type": "code",
   "execution_count": null,
   "metadata": {},
   "outputs": [],
   "source": [
    "wlT = @pgf Axis({xmode=\"log\",ymode=\"log\"},PlotInc(Table([ns,median(taz,dims=2)[:]])),\n",
    "        LegendEntry(\"AZ\"),\n",
    "        PlotInc(Table([ns,median(tqr,dims=2)[:]])),\n",
    "        LegendEntry(\"QR\"))"
   ]
  },
  {
   "cell_type": "code",
   "execution_count": null,
   "metadata": {},
   "outputs": [],
   "source": []
  },
  {
   "cell_type": "markdown",
   "metadata": {},
   "source": [
    "# Chebyshev extension"
   ]
  },
  {
   "cell_type": "code",
   "execution_count": null,
   "metadata": {},
   "outputs": [],
   "source": [
    "using FrameFun, BasisFunctions\n",
    "import FrameFun.Platforms: dictionary\n",
    "import FrameFun.FrameFunInterface: discretemeasure\n",
    "struct WChebyshevPlatform <: BasisPlatform end\n",
    "FrameFun.Platforms.unsafe_dictionary(plat::WChebyshevPlatform, param::Int) = ChebyshevT(param)\n",
    "FrameFun.Platforms.correctparamformat(platform::WChebyshevPlatform, param::Int) = true\n",
    "discretemeasure(ss::SamplingStyle, plat::WChebyshevPlatform, param, ap; options...) =\n",
    "    gauss_rule(dictionary(plat,length(sampling_grid(ss,ap;options...))))"
   ]
  },
  {
   "cell_type": "code",
   "execution_count": null,
   "metadata": {},
   "outputs": [],
   "source": [
    "P = FrameFun.ExtensionFramePlatform(WChebyshevPlatform(), Interval(-.5,.5))\n",
    "N = 201"
   ]
  },
  {
   "cell_type": "code",
   "execution_count": null,
   "metadata": {},
   "outputs": [],
   "source": [
    "A = AZ_A(P,N; opts...)"
   ]
  },
  {
   "cell_type": "code",
   "execution_count": null,
   "metadata": {},
   "outputs": [],
   "source": [
    "cA = @pgf Axis(axisopts,PlotInc(plotopts,Table([collect(1:N),svdvals(AZ_A(P, N;opts...))])))"
   ]
  },
  {
   "cell_type": "code",
   "execution_count": null,
   "metadata": {},
   "outputs": [],
   "source": [
    "Zt = AZ_Zt(P,N; opts...)"
   ]
  },
  {
   "cell_type": "code",
   "execution_count": null,
   "metadata": {},
   "outputs": [],
   "source": [
    "cZ = @pgf Axis(axisopts,PlotInc(plotopts,Table([collect(1:N),svdvals(AZ_Zt(P, N;opts...))])))"
   ]
  },
  {
   "cell_type": "code",
   "execution_count": null,
   "metadata": {},
   "outputs": [],
   "source": []
  },
  {
   "cell_type": "code",
   "execution_count": null,
   "metadata": {},
   "outputs": [],
   "source": [
    "cM = @pgf Axis(axisopts,PlotInc(plotopts,Table([collect(1:N),svdvals(plungematrix(P,N;opts...))])))"
   ]
  },
  {
   "cell_type": "code",
   "execution_count": null,
   "metadata": {},
   "outputs": [],
   "source": [
    "pgfsave(\"cA.tex\" , cA,include_preamble=false)\n",
    "pgfsave(\"cZ.tex\" , cZ,include_preamble=false)\n",
    "pgfsave(\"cM.tex\" , cM,include_preamble=false)"
   ]
  },
  {
   "cell_type": "markdown",
   "metadata": {},
   "source": [
    "# Weighted on a square"
   ]
  },
  {
   "cell_type": "code",
   "execution_count": null,
   "metadata": {},
   "outputs": [],
   "source": [
    "f = (x,y) -> cos(2pi*(x+y)) + sqrt(x^2+y^2)*sin(1+2pi*(x+y))"
   ]
  },
  {
   "cell_type": "code",
   "execution_count": null,
   "metadata": {},
   "outputs": [],
   "source": [
    "P = WeightedSumPlatform(platform(ChebyshevT(10,-1,1)^2), (x,y)->1., (x,y)->sqrt(x^2+y^2))"
   ]
  },
  {
   "cell_type": "code",
   "execution_count": null,
   "metadata": {},
   "outputs": [],
   "source": [
    "N = 32"
   ]
  },
  {
   "cell_type": "code",
   "execution_count": null,
   "metadata": {},
   "outputs": [],
   "source": [
    "A = AZ_A(P,((N,N),(N,N)); opts...)"
   ]
  },
  {
   "cell_type": "code",
   "execution_count": null,
   "metadata": {},
   "outputs": [],
   "source": [
    "Zt = AZ_Zt(P,((N,N),(N,N)); opts...)"
   ]
  },
  {
   "cell_type": "code",
   "execution_count": null,
   "metadata": {},
   "outputs": [],
   "source": [
    "s = svdvals(A)\n",
    "wsA = @pgf Axis(axisopts,PlotInc(plotopts,Table([collect(1:length(s)),s])))"
   ]
  },
  {
   "cell_type": "code",
   "execution_count": null,
   "metadata": {},
   "outputs": [],
   "source": [
    "s = svdvals(Zt)\n",
    "wsZ = @pgf Axis(axisopts,PlotInc(plotopts,Table([collect(1:length(s)),s])))"
   ]
  },
  {
   "cell_type": "code",
   "execution_count": null,
   "metadata": {},
   "outputs": [],
   "source": [
    "s = svdvals(plungematrix(P,((N,N),(N,N));opts...));"
   ]
  },
  {
   "cell_type": "code",
   "execution_count": null,
   "metadata": {},
   "outputs": [],
   "source": [
    "wsM = @pgf Axis(axisopts,\n",
    "        PlotInc(plotopts,Table([collect(1:length(s)),s])))"
   ]
  },
  {
   "cell_type": "code",
   "execution_count": null,
   "metadata": {},
   "outputs": [],
   "source": [
    "F = Fun(f,P,((N,N),(N,N)); verbose=true,opts...)"
   ]
  },
  {
   "cell_type": "code",
   "execution_count": null,
   "metadata": {},
   "outputs": [],
   "source": [
    "x = EquispacedGrid(100,-1,1)\n",
    "wsP = plot(F;c=:RdBu,size=(2*300,2*140),layout=2)\n",
    "wsP = heatmap!(log10.(eps().+abs.(F(x^2)-[f(xi, yi) for xi in x, yi in x]));subplot=2,aspect_ratio=1,ticks=false)"
   ]
  },
  {
   "cell_type": "code",
   "execution_count": null,
   "metadata": {},
   "outputs": [],
   "source": [
    "using Statistics\n",
    "ns = [1<<k for k in 1:5]\n",
    "wst = zeros(length(ns),1)\n",
    "wsNs = [size(AZ_A(P,((n,n),(n,n));opts...),2) for  (i,n) in enumerate(ns)]\n",
    "@timed(approximate(f,P,((10,10),(10,10));REG=rSVD_solver,opts...))\n",
    "[wst[i] = getindex(@timed(approximate(f,P,((n,n),(n,n));REG=rSVD_solver,opts...)),2) \n",
    "        for (i,n) in enumerate(ns),  j in 1:1]"
   ]
  },
  {
   "cell_type": "code",
   "execution_count": null,
   "metadata": {},
   "outputs": [],
   "source": [
    "wsT = @pgf Axis({sizeopts..., xmode=\"log\",ymode=\"log\",legend_pos=\"south east\"},\n",
    "        PlotInc(plotopts,Table([ns.^2,median(wst,dims=2)[:]])),\n",
    "        PlotInc({plotopts..., style=\"black,dashed\",mark=\"none\"},Table([wsNs,1e-5(wsNs).*log.(wsNs)])),\n",
    "        LegendEntry(L\"\\mathcal O(N \\log(N))\"))"
   ]
  },
  {
   "cell_type": "code",
   "execution_count": null,
   "metadata": {},
   "outputs": [],
   "source": [
    "pgfsave(\"wsA.tex\" , wsA,include_preamble=false)\n",
    "pgfsave(\"wsZ.tex\" , wsZ,include_preamble=false)\n",
    "pgfsave(\"wsM.tex\" , wsM,include_preamble=false)\n",
    "pgfsave(\"wsT.tex\" , wsT,include_preamble=false)\n",
    "Plots.savefig(wsP, \"weightedsquare\")"
   ]
  },
  {
   "cell_type": "markdown",
   "metadata": {},
   "source": [
    "# Weighed on a disk"
   ]
  },
  {
   "cell_type": "code",
   "execution_count": null,
   "metadata": {},
   "outputs": [],
   "source": [
    "f = (x,y) -> cos(2pi*(x+y)) + sqrt(x^2+y^2)*sin(1+2pi*(x+y))"
   ]
  },
  {
   "cell_type": "code",
   "execution_count": null,
   "metadata": {},
   "outputs": [],
   "source": [
    "P = FrameFun.ExtensionFramePlatform(WeightedSumPlatform(platform(ChebyshevT(10,-1,1)^2), (x,y)->1., \n",
    "        (x,y)->sqrt(x^2+y^2)),.9*UnitDisk())"
   ]
  },
  {
   "cell_type": "code",
   "execution_count": null,
   "metadata": {},
   "outputs": [],
   "source": [
    "N = 32"
   ]
  },
  {
   "cell_type": "code",
   "execution_count": null,
   "metadata": {},
   "outputs": [],
   "source": [
    "A = AZ_A(P,((N,N),(N,N)); opts...)"
   ]
  },
  {
   "cell_type": "code",
   "execution_count": null,
   "metadata": {},
   "outputs": [],
   "source": [
    "Zt = AZ_Zt(P,((N,N),(N,N)); opts...)"
   ]
  },
  {
   "cell_type": "code",
   "execution_count": null,
   "metadata": {},
   "outputs": [],
   "source": [
    "s1 = svdvals(A)"
   ]
  },
  {
   "cell_type": "code",
   "execution_count": null,
   "metadata": {},
   "outputs": [],
   "source": [
    "wcA = @pgf Axis(axisopts,PlotInc(plotopts,Table([collect(1:length(s1)),s1])))"
   ]
  },
  {
   "cell_type": "code",
   "execution_count": null,
   "metadata": {},
   "outputs": [],
   "source": [
    "s2 = svdvals(Zt)"
   ]
  },
  {
   "cell_type": "code",
   "execution_count": null,
   "metadata": {},
   "outputs": [],
   "source": [
    "wcZ = @pgf Axis(axisopts,PlotInc(plotopts,Table([collect(1:length(s2)),s2])))"
   ]
  },
  {
   "cell_type": "code",
   "execution_count": null,
   "metadata": {},
   "outputs": [],
   "source": [
    "s3 = svdvals(plungematrix(P,((N,N),(N,N));opts...))"
   ]
  },
  {
   "cell_type": "code",
   "execution_count": null,
   "metadata": {},
   "outputs": [],
   "source": [
    "wcM = @pgf Axis(axisopts,PlotInc(plotopts,Table([collect(1:length(s3)),s3])))"
   ]
  },
  {
   "cell_type": "code",
   "execution_count": null,
   "metadata": {},
   "outputs": [],
   "source": [
    "F = Fun(f, P, ((N,N),(N,N)); verbose=true,opts...)"
   ]
  },
  {
   "cell_type": "code",
   "execution_count": null,
   "metadata": {},
   "outputs": [],
   "source": [
    "g = PeriodicEquispacedGrid(100,-.9,.9)^2;\n",
    "y = F(g);"
   ]
  },
  {
   "cell_type": "code",
   "execution_count": null,
   "metadata": {},
   "outputs": [],
   "source": [
    "x = EquispacedGrid(100,-1,1)\n",
    "wcP = plot(F;c=:RdBu,size=(2*300,2*140),layout=2)\n",
    "wcP = heatmap!(log10.(eps().+abs.(F(x^2)-[f(xi, yi) for xi in x, yi in x]));subplot=2,aspect_ratio=1,ticks=false)"
   ]
  },
  {
   "cell_type": "code",
   "execution_count": null,
   "metadata": {},
   "outputs": [],
   "source": [
    "using Statistics\n",
    "ns = [1<<k for k in 1:5]\n",
    "wct = zeros(length(ns),1)\n",
    "wcNs = [size(AZ_A(P,((n,n),(n,n));opts...),2) for  (i,n) in enumerate(ns)]\n",
    "@timed(approximate(f,P,((10,10),(10,10));REG=rSVD_solver,opts...))\n",
    "[wct[i] = getindex(@timed(approximate(f,P,((n,n),(n,n));REG=rSVD_solver,opts...)),2) \n",
    "        for (i,n) in enumerate(ns),  j in 1:1]"
   ]
  },
  {
   "cell_type": "code",
   "execution_count": null,
   "metadata": {},
   "outputs": [],
   "source": [
    "wcT = @pgf Axis({sizeopts..., xmode=\"log\",ymode=\"log\",legend_pos=\"south east\"},\n",
    "    PlotInc(plotopts,Table([wcNs,median(wct,dims=2)[:]])),\n",
    "        PlotInc({plotopts..., style=\"black,dashed\",mark=\"none\"},Table([wcNs,1e-5(wcNs).^2])),\n",
    "        LegendEntry(L\"\\mathcal O(N^2)\"))"
   ]
  },
  {
   "cell_type": "code",
   "execution_count": null,
   "metadata": {},
   "outputs": [],
   "source": [
    "pgfsave(\"wcA.tex\" , wcA,include_preamble=false)\n",
    "pgfsave(\"wcZ.tex\" , wcZ,include_preamble=false)\n",
    "pgfsave(\"wcM.tex\" , wcM,include_preamble=false)\n",
    "pgfsave(\"wcT.tex\" , wcT,include_preamble=false)\n",
    "savefig(wcP, \"weightedcircle\")"
   ]
  },
  {
   "cell_type": "code",
   "execution_count": null,
   "metadata": {},
   "outputs": [],
   "source": []
  },
  {
   "cell_type": "code",
   "execution_count": null,
   "metadata": {},
   "outputs": [],
   "source": []
  },
  {
   "cell_type": "code",
   "execution_count": null,
   "metadata": {},
   "outputs": [],
   "source": []
  }
 ],
 "metadata": {
  "@webio": {
   "lastCommId": null,
   "lastKernelId": null
  },
  "kernelspec": {
   "display_name": "Julia 1.3.0",
   "language": "julia",
   "name": "julia-1.3"
  },
  "language_info": {
   "file_extension": ".jl",
   "mimetype": "application/julia",
   "name": "julia",
   "version": "1.3.0"
  }
 },
 "nbformat": 4,
 "nbformat_minor": 2
}
